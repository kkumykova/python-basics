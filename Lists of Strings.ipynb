{
 "cells": [
  {
   "cell_type": "markdown",
   "metadata": {},
   "source": [
    "# The List Data Type - The Basics"
   ]
  },
  {
   "cell_type": "markdown",
   "metadata": {},
   "source": [
    "A list is a value that contains multiple values in an ordered sequence.\n",
    "\n",
    "- a list value looks like this: ['cat', 'bat', 'rat', 'elephant'].\n",
    "- lists can contain multiple values\n",
    "- lists themselves can contain other lists\n",
    "- a list begins with an opening square bracket and ends with a closing square bracket - [ ]\n",
    "- the value [ ] is an empty list that contains no values\n",
    "- values inside the list are also called items\n",
    "- items separated with commas\n",
    "\n"
   ]
  },
  {
   "cell_type": "code",
   "execution_count": 1,
   "metadata": {
    "scrolled": true
   },
   "outputs": [
    {
     "data": {
      "application/vnd.jupyter.widget-view+json": {
       "model_id": "dcbfad8516f84aac853d26d87c750952",
       "version_major": 2,
       "version_minor": 0
      },
      "text/plain": [
       "Turtle()"
      ]
     },
     "metadata": {},
     "output_type": "display_data"
    }
   ],
   "source": [
    "# https://github.com/takluyver/mobilechelonian - How to make python turtle works in Jupyter Notebook\n",
    "from mobilechelonian import Turtle\n",
    "t = Turtle()\n",
    "t.speed(5)\n",
    "colours=[\"red\",\"blue\",\"yellow\",\"brown\",\"black\",\"purple\",\"green\"]\n",
    "\n",
    "t.penup(); t.left(90); t.forward(200);t.right(90);t.pendown()\n",
    "for i in range (0,18):\n",
    "    t.pencolor(colours[i%7])\n",
    "    t.right(20)\n",
    "    t.forward(50)\n",
    "\n",
    "t.right(180)\n",
    "t.home()"
   ]
  },
  {
   "cell_type": "code",
   "execution_count": null,
   "metadata": {},
   "outputs": [],
   "source": []
  },
  {
   "cell_type": "markdown",
   "metadata": {},
   "source": [
    "This code is using a few computing concetps such as:\n",
    "\n",
    "- A list to store the different colour codes,\n",
    "- Iteration using a for loop to loop through each colour in the list,\n",
    "- (x,y) coordinates to position the turtle on the screen."
   ]
  },
  {
   "cell_type": "markdown",
   "metadata": {},
   "source": [
    "## List\n",
    "In Python, a list is used to save a collection of values. In our rainbow code we use a list to store all the different colours of the rainbow as follows:"
   ]
  },
  {
   "cell_type": "code",
   "execution_count": 9,
   "metadata": {},
   "outputs": [],
   "source": [
    "rainbowColors = [\"#FF0000\",\"#FFA600\",\"#FFFF00\", \"#62FF00\", \"#1E56FC\",\"#4800FF\",\"#CC00FF\",\"#69C5FF\"]"
   ]
  },
  {
   "cell_type": "markdown",
   "metadata": {},
   "source": [
    "## Looping through a list\n",
    "\n",
    "It is possible to access each value of a list <b>one at a time</b> using a for loop. "
   ]
  },
  {
   "cell_type": "code",
   "execution_count": 12,
   "metadata": {},
   "outputs": [
    {
     "name": "stdout",
     "output_type": "stream",
     "text": [
      "Monday\n",
      "Tuesday\n",
      "Wednesday\n",
      "Thursday\n",
      "Friday\n",
      "Saturday\n",
      "Sunday\n"
     ]
    }
   ],
   "source": [
    "daysOfTheWeek = [\"Monday\", \"Tuesday\", \"Wednesday\", \"Thursday\", \"Friday\", \"Saturday\", \"Sunday\"]\n",
    " \n",
    "for day in daysOfTheWeek:\n",
    "    print(day)"
   ]
  },
  {
   "cell_type": "code",
   "execution_count": 10,
   "metadata": {},
   "outputs": [
    {
     "name": "stdout",
     "output_type": "stream",
     "text": [
      "Monday\n",
      "Tuesday\n",
      "Wednesday\n",
      "Thursday\n",
      "Friday\n",
      "Saturday\n",
      "Sunday\n"
     ]
    }
   ],
   "source": [
    "import time\n",
    "time.sleep(1)\n",
    "\n",
    "daysOfTheWeek = [\"Monday\", \"Tuesday\", \"Wednesday\", \"Thursday\", \"Friday\", \"Saturday\", \"Sunday\"]\n",
    " \n",
    "for day in daysOfTheWeek:\n",
    "    print(day)\n",
    "    time.sleep(1)"
   ]
  },
  {
   "cell_type": "markdown",
   "metadata": {},
   "source": [
    "## (x,y) coordinates using turtle"
   ]
  },
  {
   "cell_type": "markdown",
   "metadata": {},
   "source": [
    "![caption](images\\\\quadrant-coordinates.png)"
   ]
  },
  {
   "cell_type": "code",
   "execution_count": 17,
   "metadata": {},
   "outputs": [],
   "source": [
    "#Rainbow Challenge - www.101computing.net/rainbow-challenge\n",
    "import turtle\n",
    "myPen = turtle.Turtle()\n",
    "myPen.shape(\"turtle\")\n",
    "myPen.speed(10)\n",
    "\n",
    "window = turtle.Screen()\n",
    "window.bgcolor(\"#69C5FF\")\n",
    "\n",
    "rainbowColors = [\"#FF0000\",\"#FFA600\",\"#FFFF00\", \"#62FF00\", \"#1E56FC\",\"#4800FF\",\"#CC00FF\",\"#69C5FF\"]\n",
    "\n",
    "size=280\n",
    "\n",
    "myPen.penup()\n",
    "myPen.goto(0,-360)\n",
    "\n",
    "for color in rainbowColors:\n",
    "  myPen.color(color)\n",
    "  myPen.fillcolor(color)\n",
    "  myPen.begin_fill()\n",
    "  myPen.circle(size)\n",
    "  myPen.end_fill()\n",
    "  size -= 9\n"
   ]
  },
  {
   "cell_type": "code",
   "execution_count": 14,
   "metadata": {},
   "outputs": [],
   "source": [
    "# How to close the Python turtle window after it does its code?\n",
    "turtle.bye()"
   ]
  },
  {
   "cell_type": "code",
   "execution_count": 37,
   "metadata": {},
   "outputs": [],
   "source": [
    "import turtle\n",
    "myPen = turtle.Turtle()\n",
    "myPen.shape(\"turtle\")\n",
    "myPen.speed(10)\n",
    "\n",
    "window = turtle.Screen()\n",
    "window.bgcolor(\"#69C5FF\")\n",
    "\n",
    "dotColors = [\"#0099e6\",\"#43e0ef\",\"#c3e970\",\"#ffa9c2\",\"#d297d9\"]\n",
    "\n",
    "size=10\n",
    "\n",
    "myPen.penup()\n",
    "myPen.goto(-80,80)\n",
    "\n",
    "for color in dotColors:\n",
    "  myPen.color(color)\n",
    "  myPen.fillcolor(color)\n",
    "  myPen.begin_fill()\n",
    "  myPen.circle(size)\n",
    "  myPen.end_fill()\n",
    "  myPen.forward(30)\n"
   ]
  },
  {
   "cell_type": "code",
   "execution_count": 35,
   "metadata": {},
   "outputs": [],
   "source": [
    "# How to close the Python turtle window after it does its code?\n",
    "turtle.bye()"
   ]
  },
  {
   "cell_type": "code",
   "execution_count": null,
   "metadata": {},
   "outputs": [],
   "source": []
  },
  {
   "cell_type": "code",
   "execution_count": null,
   "metadata": {},
   "outputs": [],
   "source": []
  },
  {
   "cell_type": "code",
   "execution_count": null,
   "metadata": {},
   "outputs": [],
   "source": []
  },
  {
   "cell_type": "code",
   "execution_count": null,
   "metadata": {},
   "outputs": [],
   "source": []
  },
  {
   "cell_type": "code",
   "execution_count": null,
   "metadata": {},
   "outputs": [],
   "source": []
  },
  {
   "cell_type": "code",
   "execution_count": null,
   "metadata": {},
   "outputs": [],
   "source": []
  },
  {
   "cell_type": "code",
   "execution_count": null,
   "metadata": {},
   "outputs": [],
   "source": []
  },
  {
   "cell_type": "code",
   "execution_count": null,
   "metadata": {},
   "outputs": [],
   "source": []
  }
 ],
 "metadata": {
  "kernelspec": {
   "display_name": "Python 3",
   "language": "python",
   "name": "python3"
  },
  "language_info": {
   "codemirror_mode": {
    "name": "ipython",
    "version": 3
   },
   "file_extension": ".py",
   "mimetype": "text/x-python",
   "name": "python",
   "nbconvert_exporter": "python",
   "pygments_lexer": "ipython3",
   "version": "3.7.6"
  }
 },
 "nbformat": 4,
 "nbformat_minor": 4
}
