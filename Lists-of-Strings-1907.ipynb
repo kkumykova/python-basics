{
 "cells": [
  {
   "cell_type": "markdown",
   "metadata": {},
   "source": [
    "# The List Data Type - The Basics"
   ]
  },
  {
   "cell_type": "markdown",
   "metadata": {},
   "source": [
    "https://stackoverflow.com/questions/44841470/anaconda-installed-but-cannot-launch-navigator\n",
    "A list is a value that contains multiple values in an ordered sequence.\n",
    "\n",
    "- a list value looks like this: ['cat', 'bat', 'rat', 'elephant'].\n",
    "- lists can contain multiple values\n",
    "- lists themselves can contain other lists\n",
    "- a list begins with an opening square bracket and ends with a closing square bracket - [ ]\n",
    "- the value [ ] is an empty list that contains no values\n",
    "- values inside the list are also called items\n",
    "- items separated with commas\n",
    "\n"
   ]
  },
  {
   "cell_type": "markdown",
   "metadata": {},
   "source": [
    "This code is using a few computing concetps such as:\n",
    "\n",
    "- A list to store the different colour codes,\n",
    "- Iteration using a for loop to loop through each colour in the list,\n",
    "- (x,y) coordinates to position the turtle on the screen."
   ]
  },
  {
   "cell_type": "markdown",
   "metadata": {},
   "source": [
    "## List\n",
    "In Python, a list is used to save a collection of values. In our rainbow code we use a list to store all the different colours of the rainbow as follows:"
   ]
  },
  {
   "cell_type": "code",
   "execution_count": 1,
   "metadata": {},
   "outputs": [],
   "source": [
    "rainbowColors = [\"#FF0000\",\"#FFA600\",\"#FFFF00\", \"#62FF00\", \"#1E56FC\",\"#4800FF\",\"#CC00FF\",\"#69C5FF\"]"
   ]
  },
  {
   "cell_type": "markdown",
   "metadata": {},
   "source": [
    "## Looping through a list\n",
    "\n",
    "It is possible to access each value of a list <b>one at a time</b> using a for loop. "
   ]
  },
  {
   "cell_type": "code",
   "execution_count": 2,
   "metadata": {},
   "outputs": [
    {
     "name": "stdout",
     "output_type": "stream",
     "text": [
      "Monday\n",
      "Tuesday\n",
      "Wednesday\n",
      "Thursday\n",
      "Friday\n",
      "Saturday\n",
      "Sunday\n"
     ]
    }
   ],
   "source": [
    "daysOfTheWeek = [\"Monday\", \"Tuesday\", \"Wednesday\", \"Thursday\", \"Friday\", \"Saturday\", \"Sunday\"]\n",
    " \n",
    "for day in daysOfTheWeek:\n",
    "    print(day)"
   ]
  },
  {
   "cell_type": "code",
   "execution_count": 3,
   "metadata": {},
   "outputs": [
    {
     "name": "stdout",
     "output_type": "stream",
     "text": [
      "Monday\n",
      "Tuesday\n",
      "Wednesday\n",
      "Thursday\n",
      "Friday\n",
      "Saturday\n",
      "Sunday\n"
     ]
    }
   ],
   "source": [
    "import time\n",
    "time.sleep(1)\n",
    "\n",
    "daysOfTheWeek = [\"Monday\", \"Tuesday\", \"Wednesday\", \"Thursday\", \"Friday\", \"Saturday\", \"Sunday\"]\n",
    " \n",
    "for day in daysOfTheWeek:\n",
    "    print(day)\n",
    "    time.sleep(1)"
   ]
  },
  {
   "cell_type": "markdown",
   "metadata": {},
   "source": [
    "## (x,y) coordinates using turtle"
   ]
  },
  {
   "cell_type": "markdown",
   "metadata": {},
   "source": [
    "![caption](images\\\\quadrant-coordinates.png)"
   ]
  },
  {
   "cell_type": "code",
   "execution_count": 377,
   "metadata": {},
   "outputs": [],
   "source": [
    "#Rainbow Challenge - www.101computing.net/rainbow-challenge\n",
    "import turtle\n",
    "alex = turtle.Turtle()\n",
    "alex.shape(\"turtle\")\n",
    "alex.speed(30)\n",
    "\n",
    "window = turtle.Screen()\n",
    "window.bgcolor(\"#69C5FF\")\n",
    "\n",
    "rainbowColors = [\"#FF0000\",\"#FFA600\",\"#FFFF00\", \"#62FF00\", \"#1E56FC\",\"#4800FF\",\"#CC00FF\",\"white\", \"green\"]\n",
    "\n",
    "size=280\n",
    "\n",
    "alex.penup()\n",
    "alex.goto(0,-560)\n",
    "\n",
    "for color in rainbowColors:\n",
    "  alex.color(color)\n",
    "  alex.fillcolor(color)\n",
    "  alex.begin_fill()\n",
    "  alex.circle(size)\n",
    "  alex.end_fill()\n",
    "  size -= 12\n"
   ]
  },
  {
   "cell_type": "code",
   "execution_count": 22,
   "metadata": {},
   "outputs": [],
   "source": [
    "# How to close the Python turtle window after it does its code?\n",
    "turtle.bye()"
   ]
  },
  {
   "cell_type": "code",
   "execution_count": 65,
   "metadata": {
    "scrolled": true
   },
   "outputs": [],
   "source": [
    "import turtle\n",
    "alex = turtle.Turtle()\n",
    "alex.shape(\"classic\")\n",
    "alex.speed(100)\n",
    "\n",
    "window = turtle.Screen()\n",
    "window.bgcolor(\"green\")\n",
    "\n",
    "dotColors = [\"#0099e6\",\"#43e0ef\",\"#c3e970\",\"#ffa9c2\",\"#d297d9\"]\n",
    "\n",
    "size=10\n",
    "alex.penup() \n",
    "\n",
    "for row in range(5):\n",
    "    alex.goto(-250, row * 20)\n",
    "    for color in dotColors:\n",
    "        alex.color(color)\n",
    "        alex.fillcolor(color)\n",
    "        alex.begin_fill()\n",
    "        alex.circle(size)\n",
    "        alex.end_fill()\n",
    "        alex.forward(20)\n",
    "\n"
   ]
  },
  {
   "cell_type": "code",
   "execution_count": null,
   "metadata": {},
   "outputs": [],
   "source": []
  },
  {
   "cell_type": "code",
   "execution_count": 313,
   "metadata": {},
   "outputs": [],
   "source": [
    "# How to close the Python turtle window after it does its code?\n",
    "turtle.bye()"
   ]
  },
  {
   "cell_type": "code",
   "execution_count": 290,
   "metadata": {},
   "outputs": [
    {
     "data": {
      "text/plain": [
       "'#FF0000'"
      ]
     },
     "execution_count": 290,
     "metadata": {},
     "output_type": "execute_result"
    }
   ],
   "source": []
  },
  {
   "cell_type": "code",
   "execution_count": 12,
   "metadata": {
    "scrolled": true
   },
   "outputs": [],
   "source": [
    "import turtle\n",
    "import random #Only use this statement once, at the top of your Python program.\n",
    "\n",
    "alex = turtle.Turtle()\n",
    "alex.shape(\"turtle\")\n",
    "alex.speed(100)\n",
    "\n",
    "window = turtle.Screen()\n",
    "window.bgcolor(\"green\")\n",
    "\n",
    "\n",
    "rainbowColors = [\"#ECECEC\",\"#2198d5\",\"#0f8975\", \"#0f6089\", \"#000000\" ]\n",
    "\n",
    "size = 20\n",
    "alex.penup() \n",
    "\n",
    "for row in range(6):\n",
    "    alex.goto(-50, row * 40)\n",
    "    for column in range(6):\n",
    "        alex.color(random.choice(rainbowColors))\n",
    "        alex.fillcolor(random.choice(rainbowColors))\n",
    "        alex.begin_fill()\n",
    "        alex.circle(size)\n",
    "        alex.end_fill()\n",
    "        alex.forward(40)\n",
    "\n",
    "    \n",
    "\n"
   ]
  },
  {
   "cell_type": "code",
   "execution_count": 13,
   "metadata": {},
   "outputs": [],
   "source": [
    "turtle.bye()"
   ]
  },
  {
   "cell_type": "code",
   "execution_count": 16,
   "metadata": {},
   "outputs": [
    {
     "data": {
      "text/plain": [
       "'#0f8975'"
      ]
     },
     "execution_count": 16,
     "metadata": {},
     "output_type": "execute_result"
    }
   ],
   "source": [
    "rainbowColors = [\"#ECECEC\",\"#2198d5\",\"#0f8975\", \"#0f6089\", \"#000000\"]\n",
    "randomColor = random.choice(rainbowColors)\n",
    "randomColor"
   ]
  },
  {
   "cell_type": "code",
   "execution_count": 37,
   "metadata": {},
   "outputs": [],
   "source": [
    "    \n",
    "for row in range(5):\n",
    "    alex.goto(-250, row * 20)\n",
    "    for color in dotColors:\n",
    "        alex.color(color)\n",
    "        alex.fillcolor(color)\n",
    "        alex.begin_fill()\n",
    "        alex.circle(size)\n",
    "        alex.end_fill()\n",
    "        alex.forward(20)"
   ]
  },
  {
   "cell_type": "code",
   "execution_count": null,
   "metadata": {},
   "outputs": [],
   "source": []
  },
  {
   "cell_type": "code",
   "execution_count": null,
   "metadata": {},
   "outputs": [],
   "source": []
  },
  {
   "cell_type": "code",
   "execution_count": null,
   "metadata": {},
   "outputs": [],
   "source": []
  },
  {
   "cell_type": "code",
   "execution_count": null,
   "metadata": {},
   "outputs": [],
   "source": []
  },
  {
   "cell_type": "code",
   "execution_count": null,
   "metadata": {},
   "outputs": [],
   "source": []
  },
  {
   "cell_type": "code",
   "execution_count": null,
   "metadata": {},
   "outputs": [],
   "source": []
  },
  {
   "cell_type": "code",
   "execution_count": null,
   "metadata": {},
   "outputs": [],
   "source": []
  }
 ],
 "metadata": {
  "kernelspec": {
   "display_name": "Python 3",
   "language": "python",
   "name": "python3"
  },
  "language_info": {
   "codemirror_mode": {
    "name": "ipython",
    "version": 3
   },
   "file_extension": ".py",
   "mimetype": "text/x-python",
   "name": "python",
   "nbconvert_exporter": "python",
   "pygments_lexer": "ipython3",
   "version": "3.7.6"
  }
 },
 "nbformat": 4,
 "nbformat_minor": 4
}
